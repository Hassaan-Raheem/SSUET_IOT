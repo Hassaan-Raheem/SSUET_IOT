{
  "nbformat": 4,
  "nbformat_minor": 0,
  "metadata": {
    "colab": {
      "provenance": []
    },
    "kernelspec": {
      "name": "python3",
      "display_name": "Python 3"
    },
    "language_info": {
      "name": "python"
    }
  },
  "cells": [
    {
      "cell_type": "markdown",
      "source": [
        "# IOT QUIZ\n",
        "\n"
      ],
      "metadata": {
        "id": "6VDt6KPBw9HD"
      }
    },
    {
      "cell_type": "code",
      "source": [
        "#It's a set of numbers that i use input for all the programs.\n",
        "numbers = list(range(1,30))"
      ],
      "metadata": {
        "id": "KnSQNFG61qu6"
      },
      "execution_count": 63,
      "outputs": []
    },
    {
      "cell_type": "markdown",
      "source": [
        "**Q1) Python program to print all odd numbers in a list.**\n"
      ],
      "metadata": {
        "id": "gjkOtEuYxHgK"
      }
    },
    {
      "cell_type": "code",
      "source": [
        "odd_numbers = []\n",
        "for num in numbers:\n",
        "  if num%2==1:\n",
        "    odd_numbers.append(num)\n",
        "else:\n",
        "  print(\"ODD NUMBERS = \",odd_numbers)"
      ],
      "metadata": {
        "colab": {
          "base_uri": "https://localhost:8080/"
        },
        "id": "vtgdbsidxBKy",
        "outputId": "93e3c2b5-5c87-4ddf-f8d2-2cb16e5eb10f"
      },
      "execution_count": 64,
      "outputs": [
        {
          "output_type": "stream",
          "name": "stdout",
          "text": [
            "ODD NUMBERS =  [1, 3, 5, 7, 9, 11, 13, 15, 17, 19, 21, 23, 25, 27, 29]\n"
          ]
        }
      ]
    },
    {
      "cell_type": "markdown",
      "source": [
        "**Q2) Python program to find the sum of list elements.**\n"
      ],
      "metadata": {
        "id": "Up_aD5d9yJPS"
      }
    },
    {
      "cell_type": "code",
      "source": [
        "sum = 0\n",
        "for num in numbers:\n",
        "  sum += num\n",
        "print(\"sum of list: \",sum)"
      ],
      "metadata": {
        "colab": {
          "base_uri": "https://localhost:8080/"
        },
        "id": "KhlQzedy2IF6",
        "outputId": "94e2aa98-d2b2-4e8d-af15-0af89d6b0601"
      },
      "execution_count": 65,
      "outputs": [
        {
          "output_type": "stream",
          "name": "stdout",
          "text": [
            "sum of list:  435\n"
          ]
        }
      ]
    },
    {
      "cell_type": "markdown",
      "source": [
        "**Q3) Python program to reverse a list in two ways.**\n"
      ],
      "metadata": {
        "id": "l7ApLUh0yL8K"
      }
    },
    {
      "cell_type": "code",
      "source": [
        "#way1 through slicing\n",
        "print(\"revesed list through slicing: \",numbers[::-1])\n",
        "\n",
        "#way2 through builtin method\n",
        "rev = numbers.copy()\n",
        "rev.reverse()\n",
        "print(\"revesed list through builtin methods: \",rev)"
      ],
      "metadata": {
        "colab": {
          "base_uri": "https://localhost:8080/"
        },
        "id": "IlkcBd9j2ayg",
        "outputId": "beb975d6-3fab-4a6a-b52e-2d0d6a707b01"
      },
      "execution_count": 66,
      "outputs": [
        {
          "output_type": "stream",
          "name": "stdout",
          "text": [
            "revesed list through slicing:  [29, 28, 27, 26, 25, 24, 23, 22, 21, 20, 19, 18, 17, 16, 15, 14, 13, 12, 11, 10, 9, 8, 7, 6, 5, 4, 3, 2, 1]\n",
            "revesed list through builtin methods:  [29, 28, 27, 26, 25, 24, 23, 22, 21, 20, 19, 18, 17, 16, 15, 14, 13, 12, 11, 10, 9, 8, 7, 6, 5, 4, 3, 2, 1]\n"
          ]
        }
      ]
    },
    {
      "cell_type": "markdown",
      "source": [
        "Q4) Python program to find the top two maximum\n",
        "numbers in a list.**\n"
      ],
      "metadata": {
        "id": "oTYut80OyOEq"
      }
    },
    {
      "cell_type": "code",
      "source": [
        "top2_maximum = []\n",
        "temp = numbers.copy()\n",
        "for i in range(2):\n",
        "  maximum = max(temp)\n",
        "  top2_maximum.append(maximum)\n",
        "  temp.pop()\n",
        "print(\"top 2 maximum = \",top2_maximum)"
      ],
      "metadata": {
        "colab": {
          "base_uri": "https://localhost:8080/"
        },
        "id": "acGi499F56Yz",
        "outputId": "90e75f0c-3f89-4f3e-9d54-d0a3709aec94"
      },
      "execution_count": 67,
      "outputs": [
        {
          "output_type": "stream",
          "name": "stdout",
          "text": [
            "top 2 maximum =  [29, 28]\n"
          ]
        }
      ]
    },
    {
      "cell_type": "markdown",
      "source": [
        "**Q5) Write a program in Python to find the second highest\n",
        "number in an integer list.**\n",
        "\n"
      ],
      "metadata": {
        "id": "rAMkEz_YyQsC"
      }
    },
    {
      "cell_type": "code",
      "source": [
        "temp = numbers.copy()\n",
        "temp.pop()\n",
        "print(\"Second Highest = \",max(temp))"
      ],
      "metadata": {
        "colab": {
          "base_uri": "https://localhost:8080/"
        },
        "id": "e1TywI6_7p5H",
        "outputId": "41cedb75-13a7-4c81-d6aa-6054f7a905c9"
      },
      "execution_count": 68,
      "outputs": [
        {
          "output_type": "stream",
          "name": "stdout",
          "text": [
            "Second Highest:  28\n"
          ]
        }
      ]
    },
    {
      "cell_type": "markdown",
      "source": [
        "**Q6) Python program to sort characters in descending\n",
        "order.**\n"
      ],
      "metadata": {
        "id": "Ho3TLQhdySua"
      }
    },
    {
      "cell_type": "code",
      "source": [
        "temp = numbers.copy()\n",
        "temp.sort(reverse=True)\n",
        "print(\"Sort in Descending Order =\",temp)"
      ],
      "metadata": {
        "colab": {
          "base_uri": "https://localhost:8080/"
        },
        "id": "bKLO1Jcr83eu",
        "outputId": "3571f96a-ea96-4b77-bb84-70aa485b8eaa"
      },
      "execution_count": 74,
      "outputs": [
        {
          "output_type": "stream",
          "name": "stdout",
          "text": [
            "Sort in Descending Order [29, 28, 27, 26, 25, 24, 23, 22, 21, 20, 19, 18, 17, 16, 15, 14, 13, 12, 11, 10, 9, 8, 7, 6, 5, 4, 3, 2, 1]\n"
          ]
        }
      ]
    },
    {
      "cell_type": "markdown",
      "source": [
        "**Q7) Python program to remove repeated characters from a\n",
        "string.**\n"
      ],
      "metadata": {
        "id": "79NgQ8qhyU7p"
      }
    },
    {
      "cell_type": "code",
      "source": [
        "count_words = {}\n",
        "word = \"SSUET IOT - SECTION A\"\n",
        "non_repeated = \"\"\n",
        "\n",
        "for chr in word:\n",
        "  if chr in count_words:\n",
        "    count_words[chr] += 1\n",
        "  else:\n",
        "    count_words[chr] = 1 \n",
        "\n",
        "for i in count_words.keys():\n",
        "  if count_words[i] == 1:\n",
        "    non_repeated += i\n",
        "\n",
        "print(\"original string:\",word)\n",
        "print(\"Non Repeated Characters:\",non_repeated)"
      ],
      "metadata": {
        "colab": {
          "base_uri": "https://localhost:8080/"
        },
        "id": "8ml4NBd29_6P",
        "outputId": "f7e38efb-d1d1-4200-9fc7-24af4b9cde52"
      },
      "execution_count": 111,
      "outputs": [
        {
          "output_type": "stream",
          "name": "stdout",
          "text": [
            "original string: SSUET IOT - SECTION A\n",
            "Non Repeated Characters: U-CNA\n"
          ]
        }
      ]
    },
    {
      "cell_type": "markdown",
      "source": [
        "**Q8) Python program to check if a given character is a\n",
        "vowel or consonant.**\n"
      ],
      "metadata": {
        "id": "j2z3W220yaH5"
      }
    },
    {
      "cell_type": "code",
      "source": [
        "word = \"hello world\"\n",
        "vowel_constant = {\n",
        "    \"vowels\" : [],\n",
        "    \"constants\" : []\n",
        "}\n",
        "\n",
        "for chr in word:\n",
        "  if chr in [\"a\",\"e\",\"o\",\"u\"]:\n",
        "    vowel_constant[\"vowels\"].append(chr)\n",
        "  else:\n",
        "    vowel_constant[\"constants\"].append(chr)\n",
        "\n",
        "print(\"original word = \",word)\n",
        "print(vowel_constant)\n"
      ],
      "metadata": {
        "colab": {
          "base_uri": "https://localhost:8080/"
        },
        "id": "68pXAl0oBAg-",
        "outputId": "a63d97b8-6eea-49aa-fe8c-9b59f90ff1e9"
      },
      "execution_count": 101,
      "outputs": [
        {
          "output_type": "stream",
          "name": "stdout",
          "text": [
            "original word =  hello world\n",
            "{'vowels': ['e', 'o', 'o'], 'constants': ['h', 'l', 'l', ' ', 'w', 'r', 'l', 'd']}\n"
          ]
        }
      ]
    },
    {
      "cell_type": "markdown",
      "source": [
        "**Q9) Python Program to calculate factorial.**\n"
      ],
      "metadata": {
        "id": "r-gaJLZOyb-5"
      }
    },
    {
      "cell_type": "code",
      "source": [
        "n = 5\n",
        "fact = 1\n",
        "\n",
        "for i in range(1,n+1):\n",
        "  fact *= i\n",
        "\n",
        "print(\"Factorial Of\",n,\"=\",fact)\n",
        "  "
      ],
      "metadata": {
        "colab": {
          "base_uri": "https://localhost:8080/"
        },
        "id": "HBjTK5vxCUaB",
        "outputId": "8fdfc3f3-1571-42ed-c1ee-9ccd3c898afa"
      },
      "execution_count": 105,
      "outputs": [
        {
          "output_type": "stream",
          "name": "stdout",
          "text": [
            "Factorial Of 5 = 120\n"
          ]
        }
      ]
    },
    {
      "cell_type": "markdown",
      "source": [
        "**Q10) Python Program to merge two lists.**"
      ],
      "metadata": {
        "id": "HWijx6KdydmB"
      }
    },
    {
      "cell_type": "code",
      "source": [
        "list1 = numbers[0:15]\n",
        "print(\"List1 :\",list1)\n",
        "list2 = numbers[15:len(numbers)]\n",
        "print(\"List2 :\",list2)\n",
        "\n",
        "merge = list1 + list2\n",
        "print(\"Merge 2 Lists =\",merge)"
      ],
      "metadata": {
        "colab": {
          "base_uri": "https://localhost:8080/"
        },
        "id": "DrAxXNp495ni",
        "outputId": "baf91da9-2579-4e86-cf02-0d3110ed3441"
      },
      "execution_count": 109,
      "outputs": [
        {
          "output_type": "stream",
          "name": "stdout",
          "text": [
            "List1 : [1, 2, 3, 4, 5, 6, 7, 8, 9, 10, 11, 12, 13, 14, 15]\n",
            "List2 : [16, 17, 18, 19, 20, 21, 22, 23, 24, 25, 26, 27, 28, 29]\n",
            "Merge 2 Lists = [1, 2, 3, 4, 5, 6, 7, 8, 9, 10, 11, 12, 13, 14, 15, 16, 17, 18, 19, 20, 21, 22, 23, 24, 25, 26, 27, 28, 29]\n"
          ]
        }
      ]
    },
    {
      "cell_type": "code",
      "source": [],
      "metadata": {
        "colab": {
          "base_uri": "https://localhost:8080/"
        },
        "id": "DoZUkxxpFhxi",
        "outputId": "fa417dfb-6e28-4cd3-9938-ae2c202c6a54"
      },
      "execution_count": 116,
      "outputs": [
        {
          "output_type": "stream",
          "name": "stdout",
          "text": [
            "[512, 12, 4, 3]\n"
          ]
        }
      ]
    }
  ]
}